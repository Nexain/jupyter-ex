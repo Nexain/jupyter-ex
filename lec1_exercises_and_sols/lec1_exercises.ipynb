{
 "cells": [
  {
   "cell_type": "markdown",
   "metadata": {
    "nbpresent": {
     "id": "b64c7875-2844-474f-b0c5-e9315d23de64"
    },
    "slideshow": {
     "slide_type": "slide"
    }
   },
   "source": [
    "# An Introduction to the Discrete Fourier Transform\n",
    "\n",
    "# Lecture 1: Overview\n",
    "\n",
    "\n",
    "## The following is the exercises for the first lecture on the Discrete Fourier Transform. \n",
    "\n",
    "### The two text files \"piano.txt\" and \"trumpet.txt\" are files from the book \"Computational Physics\" by Mark Newman. More infomation [here](http://www-personal.umich.edu/~mejn/cp/). \n",
    "\n",
    "### The \"piano.wav\" file is synthesized by one of my students Lukas Maldonadowerk.\n",
    "\n",
    "## Exercises\n",
    "\n",
    "### Many of these problems are done in Lecture 1's video. Consult the video if you're having trouble with these problems.\n"
   ]
  },
  {
   "cell_type": "markdown",
   "metadata": {},
   "source": [
    "#### Press Shift-Enter to run each cell. "
   ]
  },
  {
   "cell_type": "code",
   "execution_count": 3,
   "metadata": {},
   "outputs": [],
   "source": [
    "# DON'T FORGET TO RUN THIS CELL to import some libraries.\n",
    "import numpy as np\n",
    "from IPython.display import Audio\n",
    "import matplotlib.pyplot as plt\n",
    "from scipy.io import wavfile\n",
    "%matplotlib notebook"
   ]
  },
  {
   "cell_type": "markdown",
   "metadata": {},
   "source": [
    "#### We take for granted that all digital data on the computer: text, images, sound and videos are simply strings of 0's and 1'. \n",
    "\n",
    "#### Use `np.loadtxt(filename)` to import `trumpet.txt` and load into an array `ys`. This array is simply a list of numbers. You can examine the list of numbers by slicing. For example `print(ys[0:10]`), prints the first 10 numbers.\n",
    "\n",
    "```python\n",
    "ys = np.loadtxt(\"trumpet.txt\")\n",
    "```"
   ]
  },
  {
   "cell_type": "code",
   "execution_count": null,
   "metadata": {},
   "outputs": [],
   "source": []
  },
  {
   "cell_type": "markdown",
   "metadata": {},
   "source": [
    "#### Yet we can programmatically tell our speakers to vibrate according to those numbers and create sound! Create an Audio object with the data from the text file at the sampling rate `44100` Hz. Play the audio.\n",
    "\n",
    "\n",
    "```python\n",
    "ys = np.loadtxt(\"trumpet.txt\")\n",
    "Audio(ys, rate = 44100)\n",
    "```\n"
   ]
  },
  {
   "cell_type": "code",
   "execution_count": null,
   "metadata": {},
   "outputs": [],
   "source": []
  },
  {
   "cell_type": "markdown",
   "metadata": {},
   "source": [
    "#### Note: Behind the scenes, to faithfully produce the sound above, your computer speakers have to move 44100 times a second dictated by the list of numbers! The movement of the diaphragm in the speaker causes air to vibrate producing the sound. "
   ]
  },
  {
   "cell_type": "markdown",
   "metadata": {},
   "source": [
    "#### Create and initialized the variables `N`, the number of samples, `fs`, the sampling rate and `L` the length of the audio in seconds.\n",
    "\n",
    "#### Use ys.size to get the number of samples."
   ]
  },
  {
   "cell_type": "code",
   "execution_count": 6,
   "metadata": {},
   "outputs": [],
   "source": [
    "N = \n",
    "fs = \n",
    "L = \n"
   ]
  },
  {
   "cell_type": "markdown",
   "metadata": {},
   "source": [
    "#### Use `np.linspace(start, stop, num samples)` to create array of $N$ time samples `ts` for the time interval $[0,L]$. The array `ts` is the domain of our sound wave. The array `ys` is the outputs or values of the sound wave. "
   ]
  },
  {
   "cell_type": "code",
   "execution_count": null,
   "metadata": {},
   "outputs": [],
   "source": []
  },
  {
   "cell_type": "markdown",
   "metadata": {},
   "source": [
    "#### Use `matplotlib` to plot the waveform of the trumpet recording. We are plotting `ys` as a function of `ts`. Use `ax.set_xlim(x1, x2)` to zoom in. \n",
    "\n",
    "```python\n",
    "fig, ax = plt.subplots()\n",
    "ax.plot(ts, ys)\n",
    "```"
   ]
  },
  {
   "cell_type": "code",
   "execution_count": null,
   "metadata": {},
   "outputs": [],
   "source": []
  },
  {
   "cell_type": "markdown",
   "metadata": {},
   "source": [
    "#### Now use `np.fft.fft(samples)` to convert the samples to Fourier coefficients and store the result in the variable `yk`. (Since `ys` contains 100000 samples, we expect `yk` to contain N = 100000 Fourier coefficients.) \n",
    "\n",
    "#### Use np.arange(N) to create an array of integers $k=0,1,2,...,N-1$. Store in variable `k`. Then create the array of frequencies(harmonics) $f_k$ that the DFT will detect. $f_k=k/L$ where $k = 0,1,2...,N-1$. (The array `fk` contains 100000 frequencies. These are the frequencies that the DFT can detect.)\n",
    "\n",
    "### We will go into details on these concepts later. For now, we just want some intuition for what the DFT(FFT) does. \n",
    "\n"
   ]
  },
  {
   "cell_type": "code",
   "execution_count": null,
   "metadata": {},
   "outputs": [],
   "source": []
  },
  {
   "cell_type": "markdown",
   "metadata": {},
   "source": [
    "#### Use `fk[:10]` to print out the first 10 harmonics that the DFT will detect. What is the fundamental frequency?"
   ]
  },
  {
   "cell_type": "code",
   "execution_count": null,
   "metadata": {},
   "outputs": [],
   "source": []
  },
  {
   "cell_type": "markdown",
   "metadata": {},
   "source": [
    "#### Now plot the frequency domain representation (frequencies $f_k$ vs magnitude of Fourier coefficients). Use `np.abs(yk)` to compute magnitudes of the Fourier coefficients.\n",
    "\n",
    "#### What note did the trumpet play? What are the harmonics? You may use the interactive feature of the matplotlib graph to estimate these values. Use `ax.set_xlim(0, 4000)` to zoom in to the first 4000 Hz.\n",
    "\n",
    "####  The following website of notes/frequencies will be helpful. \n",
    "http://pages.mtu.edu/~suits/notefreqs.html"
   ]
  },
  {
   "cell_type": "code",
   "execution_count": null,
   "metadata": {},
   "outputs": [],
   "source": []
  },
  {
   "cell_type": "markdown",
   "metadata": {},
   "source": [
    "#### As in the lecture, collecting the above code, we can write the function `plot_signal_time` to plot the waveform as a function of time. \n",
    "#### Run the cell below. Then call the function to plot the waveform of the trumpet. Zoom in. "
   ]
  },
  {
   "cell_type": "code",
   "execution_count": 2,
   "metadata": {},
   "outputs": [],
   "source": [
    "def plot_signal_time(ys, t1, t2, fs = 44100):\n",
    "    \"\"\" plots the signal ys on the time domain [t2, t2] \n",
    "    at the sampling rate fs. \n",
    "    \"\"\"\n",
    "    N = ys.size # num of samples\n",
    "    L = N/fs # duration of audio clip\n",
    "    ts = np.linspace(0,L,N) # array of N equally spaced values from [0,L]\n",
    "    fig, ax = plt.subplots()\n",
    "    ax.plot(ts, ys)\n",
    "    ax.set_xlim(t1, t2)\n",
    "    ax.set_xlabel(\"Time(in seconds)\")\n"
   ]
  },
  {
   "cell_type": "code",
   "execution_count": 3,
   "metadata": {},
   "outputs": [],
   "source": [
    "# call plot_signal_time to plot the waveform of a trumpet. \n"
   ]
  },
  {
   "cell_type": "markdown",
   "metadata": {},
   "source": [
    "#### Write the function `plot_signal_frequency` to plot the spectrum of the signal. This code is similar to the code from the function `plot_signal_time` above. "
   ]
  },
  {
   "cell_type": "code",
   "execution_count": 4,
   "metadata": {},
   "outputs": [],
   "source": [
    "def plot_signal_frequency(ys, f1, f2, fs = 44100):\n",
    "    \"\"\" plots the signal ys on the frequency domain [f1, f2] \n",
    "    at the sampling rate fs. \n",
    "    \"\"\"\n",
    "    \n",
    "    "
   ]
  },
  {
   "cell_type": "markdown",
   "metadata": {},
   "source": [
    "#### Run the cell above. Then call the function `plot_frequency_time` to plot the waveform of the trumpet. Zoom in. "
   ]
  },
  {
   "cell_type": "code",
   "execution_count": null,
   "metadata": {},
   "outputs": [],
   "source": []
  },
  {
   "cell_type": "markdown",
   "metadata": {},
   "source": [
    "#### Import `piano.txt` and use `plot_signal_frequency` above to plot the magnitudes of the Fourier coefficients. Compare this frequency domain of the trumpet to that of the piano. \n",
    "\n",
    "\n",
    "Answer:"
   ]
  },
  {
   "cell_type": "code",
   "execution_count": null,
   "metadata": {},
   "outputs": [],
   "source": []
  },
  {
   "cell_type": "markdown",
   "metadata": {},
   "source": [
    "## The next set of problems is a little more challenging. "
   ]
  },
  {
   "cell_type": "markdown",
   "metadata": {},
   "source": [
    "#### We used the interactive feature of matplotlib to estimate the fundamental frequency and its harmonics. Now use Python code to find the fundamental frequency exactly of the PIANO recording. Hint: Compute the Fourier coefficients. Use `np.argsort(array)` to sort an array. This function returns the indices that would sort the array. The formula $f_k=k/L$ will be useful. "
   ]
  },
  {
   "cell_type": "code",
   "execution_count": null,
   "metadata": {
    "scrolled": true
   },
   "outputs": [],
   "source": []
  },
  {
   "cell_type": "markdown",
   "metadata": {},
   "source": [
    "#### Find the most dominant(largest Fourier coefficient magnitude) frequency in the TRUMPET recording. "
   ]
  },
  {
   "cell_type": "code",
   "execution_count": null,
   "metadata": {},
   "outputs": [],
   "source": []
  },
  {
   "cell_type": "markdown",
   "metadata": {},
   "source": [
    "#### Find the fundamental frequency in the TRUMPET recording. "
   ]
  },
  {
   "cell_type": "code",
   "execution_count": null,
   "metadata": {},
   "outputs": [],
   "source": []
  },
  {
   "cell_type": "markdown",
   "metadata": {},
   "source": [
    "#### The previous examples read the data from text files. Let's do an example of reading in an audio file. \n",
    "\n",
    "\n",
    "#### Use the `read(filename)` function from the `wavfile` module to read in \"piano.wav\". \n",
    "```python\n",
    "fs, ys = wavfile.read(\"file.wav\")\n",
    "```"
   ]
  },
  {
   "cell_type": "code",
   "execution_count": null,
   "metadata": {},
   "outputs": [],
   "source": []
  },
  {
   "cell_type": "markdown",
   "metadata": {},
   "source": [
    "#### Play the audio file and plot the frequencies and determine chord of the piano recording. "
   ]
  },
  {
   "cell_type": "code",
   "execution_count": null,
   "metadata": {},
   "outputs": [],
   "source": []
  },
  {
   "cell_type": "markdown",
   "metadata": {},
   "source": [
    "#### Sort the Fourier coefficient magnitudes using np.argsort and look at the top four most dominant frequencies. Use $f_k = k/L$ to find the frequencies. \n",
    "\n",
    "#### The following website of notes/frequencies will be helpful. \n",
    "http://pages.mtu.edu/~suits/notefreqs.html"
   ]
  },
  {
   "cell_type": "code",
   "execution_count": null,
   "metadata": {},
   "outputs": [],
   "source": []
  }
 ],
 "metadata": {
  "kernelspec": {
   "display_name": "Python 3",
   "language": "python",
   "name": "python3"
  },
  "language_info": {
   "codemirror_mode": {
    "name": "ipython",
    "version": 3
   },
   "file_extension": ".py",
   "mimetype": "text/x-python",
   "name": "python",
   "nbconvert_exporter": "python",
   "pygments_lexer": "ipython3",
   "version": "3.6.4"
  }
 },
 "nbformat": 4,
 "nbformat_minor": 2
}
