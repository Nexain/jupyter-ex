{
 "cells": [
  {
   "cell_type": "markdown",
   "metadata": {
    "nbpresent": {
     "id": "b64c7875-2844-474f-b0c5-e9315d23de64"
    },
    "slideshow": {
     "slide_type": "slide"
    }
   },
   "source": [
    "# An Introduction to the Discrete Fourier Transform\n",
    "\n",
    "## Exercises: Filtering out noise. This notebook outlines the step to filter out high frequency noise from a audio recording. \n"
   ]
  },
  {
   "cell_type": "code",
   "execution_count": 2,
   "metadata": {},
   "outputs": [],
   "source": [
    "import numpy as np\n",
    "from IPython.display import Audio\n",
    "import matplotlib.pyplot as plt\n",
    "from scipy.io import wavfile\n",
    "%matplotlib notebook"
   ]
  },
  {
   "cell_type": "markdown",
   "metadata": {},
   "source": [
    "#### Read in the \"trumpet_chirp.wav\" file. Use `wavfile.read(filename)`. Create an Audio object, `Audio(ys, rate)` and play the audio and notice the high pitch noise on top of a trumpet note. \n"
   ]
  },
  {
   "cell_type": "code",
   "execution_count": 4,
   "metadata": {},
   "outputs": [],
   "source": []
  },
  {
   "cell_type": "markdown",
   "metadata": {},
   "source": [
    "#### Use `plot_signal_frequency` below to plot the frequency domain to see the frequencies in the signal. Note that the signal has a linear sweep of high frequencies, which is the noise that you hear. Zoom in using `plot_signal_frequency` and estimate the range of these frequencies."
   ]
  },
  {
   "cell_type": "code",
   "execution_count": 7,
   "metadata": {},
   "outputs": [],
   "source": [
    "def plot_signal_frequency(ys, f1, f2, fs = 44100):\n",
    "    \"\"\" plots the signal ys on the frequency domain [f1, f2] \n",
    "    at the sampling rate fs. \n",
    "    \"\"\"\n",
    "    N = ys.size\n",
    "    L = N/fs\n",
    "    yk = np.fft.fft(ys)\n",
    "    k = np.arange(N) # 0 to N-1\n",
    "    freqs = k/L\n",
    "    fig, ax = plt.subplots()\n",
    "    ax.plot(freqs, np.abs(yk))\n",
    "    ax.set_xlim(f1,f2)\n",
    "    ax.set_xlabel(\"Frequency (Hz)\")\n",
    "    ax.set_ylabel(\"|yk|\")\n",
    "    "
   ]
  },
  {
   "cell_type": "code",
   "execution_count": null,
   "metadata": {},
   "outputs": [],
   "source": []
  },
  {
   "cell_type": "markdown",
   "metadata": {},
   "source": [
    "#### Since our signal is real, for this problem, use `np.fft.rfft` to apply the discrete fourier transform. Note that this function only returns half of the Fourier coefficients. It ignores the second symmetric half. Thus, we're only considering the frequencies up to the Nyquist frequency. "
   ]
  },
  {
   "cell_type": "code",
   "execution_count": null,
   "metadata": {},
   "outputs": [],
   "source": []
  },
  {
   "cell_type": "markdown",
   "metadata": {},
   "source": [
    "#### Use $f_k=k/L$ to estimate the beginning index of the noisy linear sweep of frequencies. "
   ]
  },
  {
   "cell_type": "code",
   "execution_count": null,
   "metadata": {
    "scrolled": true
   },
   "outputs": [],
   "source": []
  },
  {
   "cell_type": "markdown",
   "metadata": {},
   "source": [
    "#### Now zero out the high frequencies on the frequency domain. Hint: Use slicing, for example `yk[index:]` gives you access to the subsequence of the array `yk` beginning at `index` to the end of the array."
   ]
  },
  {
   "cell_type": "code",
   "execution_count": null,
   "metadata": {},
   "outputs": [],
   "source": []
  },
  {
   "cell_type": "markdown",
   "metadata": {},
   "source": [
    "#### Now apply the Inverse Fourier Transform by using `np.fft.irfft()` to convert the Fourier coefficients back to the samples, the time domain representation. Store your result in the array `filtered_ys`. Call `plot_signal_frequency` on `filtered_ys` to see the high frequencies removed."
   ]
  },
  {
   "cell_type": "code",
   "execution_count": null,
   "metadata": {},
   "outputs": [],
   "source": []
  },
  {
   "cell_type": "markdown",
   "metadata": {},
   "source": [
    "#### Create the Audio object with `filtered_ys`. Then play the Audio. Note that the high frequencies are filtered out!"
   ]
  },
  {
   "cell_type": "code",
   "execution_count": null,
   "metadata": {},
   "outputs": [],
   "source": []
  },
  {
   "cell_type": "markdown",
   "metadata": {},
   "source": [
    "#### Finally, use `wavfile.write(filename, rate, data)` to write the array filtered_ys to a wave file with the noise removed."
   ]
  },
  {
   "cell_type": "code",
   "execution_count": null,
   "metadata": {},
   "outputs": [],
   "source": []
  },
  {
   "cell_type": "markdown",
   "metadata": {},
   "source": [
    "#### Now apply the Inverse Discrete Fourier Transform to convert back to the sample, time domain. Now write this file to a wave file. Play the audio with the high frequencies filtered out.  "
   ]
  },
  {
   "cell_type": "code",
   "execution_count": null,
   "metadata": {},
   "outputs": [],
   "source": []
  }
 ],
 "metadata": {
  "kernelspec": {
   "display_name": "Python [conda root]",
   "language": "python",
   "name": "conda-root-py"
  },
  "language_info": {
   "codemirror_mode": {
    "name": "ipython",
    "version": 3
   },
   "file_extension": ".py",
   "mimetype": "text/x-python",
   "name": "python",
   "nbconvert_exporter": "python",
   "pygments_lexer": "ipython3",
   "version": "3.6.4"
  }
 },
 "nbformat": 4,
 "nbformat_minor": 2
}
