{
 "cells": [
  {
   "cell_type": "markdown",
   "metadata": {
    "nbpresent": {
     "id": "b64c7875-2844-474f-b0c5-e9315d23de64"
    },
    "slideshow": {
     "slide_type": "slide"
    }
   },
   "source": [
    "# An Introduction to the Discrete Fourier Transform\n",
    "\n",
    "# Lecture 4: Understanding the DFT SOLUTIONS\n",
    "\n",
    "## The following is the SOLUTIONS to the exercises for Lecture 4 on the Discrete Fourier Transform.\n",
    "\n",
    "## Exercises\n"
   ]
  },
  {
   "cell_type": "code",
   "execution_count": 3,
   "metadata": {},
   "outputs": [],
   "source": [
    "import numpy as np\n",
    "from IPython.display import Audio\n",
    "import matplotlib.pyplot as plt\n",
    "from scipy.io import wavfile\n",
    "%matplotlib notebook"
   ]
  },
  {
   "cell_type": "markdown",
   "metadata": {},
   "source": [
    "#### We consider the following signal in Lecture 4: $y(t)=3\\sin(2\\pi\\cdot 10t)+2\\cos(2\\pi\\cdot 20t+\\pi/4), t\\in [0,1/10]$.\n",
    "\n",
    "#### Let's sample this signal at the sampling rate of `fs = 80` Hz for `L=1/10` second. Initialize the variables `fs`, `L` and `N`: total samples. (If you're using $N=L\\cdot f_s$, remember to cast $N$ into an integer: `N=int(L*fs)`.)"
   ]
  },
  {
   "cell_type": "code",
   "execution_count": 4,
   "metadata": {},
   "outputs": [],
   "source": [
    "fs = 80\n",
    "L = 0.1\n",
    "N = int(L*fs)\n"
   ]
  },
  {
   "cell_type": "markdown",
   "metadata": {},
   "source": [
    "#### Create the time samples array `ts` and the samples `ys`. Use `np.linspace(start, stop, num, endpoint=False)` to inititalize `ts`."
   ]
  },
  {
   "cell_type": "code",
   "execution_count": 5,
   "metadata": {},
   "outputs": [],
   "source": [
    "ts = np.linspace(0,L,N,endpoint=False)\n",
    "ys = 3*np.sin(2*np.pi*10*ts) + 2*np.cos(2*np.pi*20*ts+np.pi/4)\n"
   ]
  },
  {
   "cell_type": "markdown",
   "metadata": {},
   "source": [
    "#### We will now compute the Fourier coefficients of the above samples by using the formula\n",
    "\n",
    "$$Y[k] = \\displaystyle\\sum_{n=0}^{N-1} y[n]e^{-i2\\pi kn/N},k=0,1,…,N-1.$$\n",
    "\n",
    "#### We will then generalize this and write our own function that compute the Discrete Fourier Transform. "
   ]
  },
  {
   "cell_type": "markdown",
   "metadata": {},
   "source": [
    "#### Let's use the formula above to compute $Y[1] =\\displaystyle\\sum_{n=0}^{7} y[n]e^{-i2\\pi n/8}$. Use a for loop to sum up the term by term product. Store your answer in the variable `y1`. "
   ]
  },
  {
   "cell_type": "code",
   "execution_count": 8,
   "metadata": {},
   "outputs": [],
   "source": [
    "y1 = 0\n",
    "for i in range(ys.size):\n",
    "    y1 += ys[i]*np.exp(-2j*np.pi*i/8)    "
   ]
  },
  {
   "cell_type": "markdown",
   "metadata": {},
   "source": [
    "#### Run the code below to check that your answer is `-12j`. Remember that the variable `j` is equal to the imaginary number `i`. "
   ]
  },
  {
   "cell_type": "code",
   "execution_count": 9,
   "metadata": {},
   "outputs": [
    {
     "data": {
      "text/plain": [
       "True"
      ]
     },
     "execution_count": 9,
     "metadata": {},
     "output_type": "execute_result"
    }
   ],
   "source": [
    "np.allclose(y1, -12j)"
   ]
  },
  {
   "cell_type": "markdown",
   "metadata": {},
   "source": [
    "#### To find all of the Fourier coefficients, use another loop, index by $k=0,1,2,...,7$. Thus, the Discrete Fourier Transform is simply a nested loop. First create an empty list. Call it `yk`. Then at each iteration, append a Fourier coefficient to the list. "
   ]
  },
  {
   "cell_type": "code",
   "execution_count": 10,
   "metadata": {},
   "outputs": [],
   "source": [
    "yk = []\n",
    "for k in range(8):\n",
    "    s = 0\n",
    "    for n in range(8):\n",
    "        s += ys[n]*np.exp(-1j*2*np.pi*k*n/8)\n",
    "    yk.append(s)"
   ]
  },
  {
   "cell_type": "code",
   "execution_count": 11,
   "metadata": {
    "scrolled": false
   },
   "outputs": [
    {
     "data": {
      "text/plain": [
       "[(8.43769498715119e-15+0j),\n",
       " (2.7200464103316335e-15-11.999999999999995j),\n",
       " (5.656854249492379+5.656854249492385j),\n",
       " (-1.6653345369377348e-15-4.996003610813204e-16j),\n",
       " (-4.884981308350689e-15-7.768113139884329e-16j),\n",
       " (5.495603971894525e-15+8.881784197001252e-16j),\n",
       " (5.656854249492392-5.656854249492378j),\n",
       " (-4.718447854656915e-15+11.999999999999996j)]"
      ]
     },
     "execution_count": 11,
     "metadata": {},
     "output_type": "execute_result"
    }
   ],
   "source": [
    "yk"
   ]
  },
  {
   "cell_type": "markdown",
   "metadata": {},
   "source": [
    "#### Run the following code to make sure your result `yk` gives the same result as `np.fft.fft()`. `np.allclose()` returns True if two arrays are element-wise equal within a tolerance."
   ]
  },
  {
   "cell_type": "code",
   "execution_count": 12,
   "metadata": {},
   "outputs": [
    {
     "data": {
      "text/plain": [
       "True"
      ]
     },
     "execution_count": 12,
     "metadata": {},
     "output_type": "execute_result"
    }
   ],
   "source": [
    "np.allclose(yk, np.fft.fft(ys)) # should return True\n"
   ]
  },
  {
   "cell_type": "markdown",
   "metadata": {},
   "source": [
    "#### Now combine all of the above code to write the function `dft` which accepts an array of samples and returns a list of Fourier coefficients. Use a nested for loop."
   ]
  },
  {
   "cell_type": "code",
   "execution_count": 13,
   "metadata": {},
   "outputs": [],
   "source": [
    "def dft(ys):\n",
    "    \"\"\"\n",
    "    Converts an array of samples ys to a list of Fourier coefficients. Use a nested for loop. \n",
    "    \"\"\"\n",
    "    N = ys.size\n",
    "    yk = []\n",
    "    for k in range(N):\n",
    "        s = 0\n",
    "        for n in range(N):\n",
    "            s += ys[n]*np.exp(-1j*2*np.pi*n*k/N)\n",
    "        yk.append(s)\n",
    "    return yk\n",
    "    "
   ]
  },
  {
   "cell_type": "markdown",
   "metadata": {},
   "source": [
    "#### Run the following code to make sure `dft` gives the same result as `np.fft.fft()`. `np.allclose()` returns True if two arrays are element-wise equal within a tolerance."
   ]
  },
  {
   "cell_type": "code",
   "execution_count": 14,
   "metadata": {},
   "outputs": [
    {
     "data": {
      "text/plain": [
       "True"
      ]
     },
     "execution_count": 14,
     "metadata": {},
     "output_type": "execute_result"
    }
   ],
   "source": [
    "fs = 80\n",
    "L = .1\n",
    "N = int(L*fs)\n",
    "ts = np.linspace(0,L,N,endpoint=False)\n",
    "ys = 3*np.sin(2*np.pi*10*ts) + 2*np.cos(2*np.pi*20*ts+np.pi/4)\n",
    "\n",
    "np.allclose(dft(ys), np.fft.fft(ys)) # should return True\n"
   ]
  },
  {
   "cell_type": "markdown",
   "metadata": {},
   "source": [
    "#### Unfortunately, the above code is very slow! Let's compare this `dft` version with `np.fft.fft` by timing each function. Run the following code. My 2017 MacAir took approximately 28 seconds on a 0.06 second audio."
   ]
  },
  {
   "cell_type": "code",
   "execution_count": 15,
   "metadata": {},
   "outputs": [
    {
     "name": "stdout",
     "output_type": "stream",
     "text": [
      "Time elapsed: 28.235265 seconds.\n"
     ]
    }
   ],
   "source": [
    "fs = 44100\n",
    "L = .06\n",
    "N = int(L*fs)\n",
    "ts = np.linspace(0,L,N,endpoint=False)\n",
    "ys = 3*np.sin(2*np.pi*10*ts) + 2*np.cos(2*np.pi*20*ts+np.pi/4)\n",
    "\n",
    "from time import clock\n",
    "start = clock()\n",
    "yk = dft(ys)\n",
    "elapsed = clock() - start\n",
    "print(\"Time elapsed:\", elapsed, \"seconds.\")\n"
   ]
  },
  {
   "cell_type": "markdown",
   "metadata": {},
   "source": [
    "#### Now let's see how much time np.fft.fft takes. (0.00361 second!, about 7800 times faster!) In general, the nested loop version of DFT takes $N^2$ operations while the FFT takes $N\\log(N)$. This is a huge difference as $N$ gets larger. This is similar to the difference between selection sort versus mergesort.\n",
    "\n",
    "### The FFT is considered [one of the top 10 algorithms](https://www.computer.org/csdl/mags/cs/2000/01/c1022.html) of the 20th century. "
   ]
  },
  {
   "cell_type": "code",
   "execution_count": 16,
   "metadata": {},
   "outputs": [
    {
     "name": "stdout",
     "output_type": "stream",
     "text": [
      "Time elapsed: 0.0036120000000003927 seconds.\n"
     ]
    }
   ],
   "source": [
    "start = clock()\n",
    "yk = np.fft.fft(ys)\n",
    "elapsed = clock() - start\n",
    "print(\"Time elapsed:\", elapsed, \"seconds.\")"
   ]
  },
  {
   "cell_type": "markdown",
   "metadata": {},
   "source": [
    "#### We can write faster version of the DFT with Numpy's optimized operations instead of using a nested loop."
   ]
  },
  {
   "cell_type": "markdown",
   "metadata": {},
   "source": [
    "#### First, compute the array of numbers for the index `n = [0,1,2...,7]`. Use `np.arange(8)` function and store it in the variable `n`."
   ]
  },
  {
   "cell_type": "code",
   "execution_count": 17,
   "metadata": {},
   "outputs": [],
   "source": [
    "n = np.arange(8)\n",
    "ts = np.linspace(0,1,8,endpoint=False)\n",
    "ys = 3*np.sin(2*np.pi*10*ts) + 2*np.cos(2*np.pi*20*ts+np.pi/4)\n"
   ]
  },
  {
   "cell_type": "markdown",
   "metadata": {},
   "source": [
    "#### Then apply the exponential function to the array `n`. Use `np.exp()`. Store this array in the variable `exp`."
   ]
  },
  {
   "cell_type": "code",
   "execution_count": 18,
   "metadata": {},
   "outputs": [],
   "source": [
    "exp = np.exp(-1j*2*np.pi*n*2/8)\n"
   ]
  },
  {
   "cell_type": "markdown",
   "metadata": {},
   "source": [
    "#### Multiply the array `ys` with the array `exp`. Numpy will multiply these arrays elementwise. Then use the built-in `sum()` function to find the sum of the resulting dot product. This sum is the coefficient `Y[1]`. Check that your answer is `-12j`. This computation uses Numpy's optimized operations and is much faster than using a for loop as done in the function `dft` above."
   ]
  },
  {
   "cell_type": "code",
   "execution_count": 20,
   "metadata": {
    "scrolled": true
   },
   "outputs": [
    {
     "data": {
      "text/plain": [
       "True"
      ]
     },
     "execution_count": 20,
     "metadata": {},
     "output_type": "execute_result"
    }
   ],
   "source": [
    "np.allclose(sum(ys*exp), -12j)"
   ]
  },
  {
   "cell_type": "markdown",
   "metadata": {},
   "source": [
    "#### Now combine all of the above code to write the function `dft2` which uses Numpy's optimized operations. This function should use only one for loop. "
   ]
  },
  {
   "cell_type": "code",
   "execution_count": 21,
   "metadata": {},
   "outputs": [],
   "source": [
    "def dft2(ys):\n",
    "    \"\"\"\n",
    "    Converts an array of samples to an array of Fourier coefficients. Uses one for loop and Numpy's optimized operations.\n",
    "    \"\"\"\n",
    "    N = ys.size\n",
    "    yk = []\n",
    "    for k in range(N):\n",
    "        n = np.arange(N)\n",
    "        exp = np.exp(-1j*2*np.pi*n*k/N)\n",
    "        yk.append(sum(ys*exp))\n",
    "    return yk"
   ]
  },
  {
   "cell_type": "markdown",
   "metadata": {},
   "source": [
    "#### Check to see if `dft` and `dft2` give the same result as `np.fft.fft`."
   ]
  },
  {
   "cell_type": "code",
   "execution_count": 22,
   "metadata": {},
   "outputs": [
    {
     "name": "stdout",
     "output_type": "stream",
     "text": [
      "dft is the same as dft2:  True\n",
      "dft2 is the same as np.fft.fft:  True\n"
     ]
    }
   ],
   "source": [
    "fs = 100\n",
    "L = .1\n",
    "N = int(L*fs)\n",
    "ts = np.linspace(0,L,N,endpoint=False)\n",
    "ys = 3*np.sin(2*np.pi*10*ts) + 2*np.cos(2*np.pi*20*ts+np.pi/4)\n",
    "print(\"dft is the same as dft2: \", np.allclose(dft(ys),dft2(ys)))\n",
    "print(\"dft2 is the same as np.fft.fft: \", np.allclose(dft2(ys),np.fft.fft(ys)))"
   ]
  },
  {
   "cell_type": "markdown",
   "metadata": {},
   "source": [
    "#### Let's compare dft and dft2 runnning times on 0.6 audio clip. `dft`: 30.99 seconds, `dft2`: 0.972 seconds."
   ]
  },
  {
   "cell_type": "code",
   "execution_count": 25,
   "metadata": {
    "scrolled": true
   },
   "outputs": [
    {
     "name": "stdout",
     "output_type": "stream",
     "text": [
      "dft2 ime elapsed: 0.972411000000001 seconds.\n",
      "dft time elapsed: 30.990553999999996 seconds.\n"
     ]
    }
   ],
   "source": [
    "fs = 44100\n",
    "L = .06\n",
    "N = int(L*fs)\n",
    "ts = np.linspace(0,L,N,endpoint=False)\n",
    "ys = 3*np.sin(2*np.pi*10*ts) + 2*np.cos(2*np.pi*20*ts+np.pi/4)\n",
    "\n",
    "from time import clock\n",
    "start = clock()\n",
    "yk = dft2(ys)\n",
    "elapsed = clock() - start\n",
    "print(\"dft2 ime elapsed:\", elapsed, \"seconds.\")\n",
    "\n",
    "\n",
    "start = clock()\n",
    "yk = dft(ys)\n",
    "elapsed = clock() - start\n",
    "print(\"dft time elapsed:\", elapsed, \"seconds.\")"
   ]
  },
  {
   "cell_type": "code",
   "execution_count": null,
   "metadata": {},
   "outputs": [],
   "source": []
  }
 ],
 "metadata": {
  "kernelspec": {
   "display_name": "Python 3",
   "language": "python",
   "name": "python3"
  },
  "language_info": {
   "codemirror_mode": {
    "name": "ipython",
    "version": 3
   },
   "file_extension": ".py",
   "mimetype": "text/x-python",
   "name": "python",
   "nbconvert_exporter": "python",
   "pygments_lexer": "ipython3",
   "version": "3.6.4"
  }
 },
 "nbformat": 4,
 "nbformat_minor": 2
}
