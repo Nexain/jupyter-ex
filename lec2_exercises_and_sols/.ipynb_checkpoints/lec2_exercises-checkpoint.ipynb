{
 "cells": [
  {
   "cell_type": "markdown",
   "metadata": {
    "nbpresent": {
     "id": "b64c7875-2844-474f-b0c5-e9315d23de64"
    },
    "slideshow": {
     "slide_type": "slide"
    }
   },
   "source": [
    "# An Introduction to the Discrete Fourier Transform\n",
    "\n",
    "# Lecture 2: Digital Audio Basics\n",
    "\n",
    "## The following is the exercises for Lecture 2 on the Discrete Fourier Transform. See this lecture video [here](https://www.youtube.com/watch?v=z6mzctYjVMc). For more supplemental resources, see also the course [website](https://longbaonguyen.github.io/courses/dft/discrete_fourier.html). \n",
    "\n",
    "### The \"clarinet.wav\" file is synthesized by one of my students Lukas Maldonadowerk.\n",
    "\n",
    "\n",
    "## Exercises\n"
   ]
  },
  {
   "cell_type": "code",
   "execution_count": 1,
   "metadata": {},
   "outputs": [],
   "source": [
    "import numpy as np\n",
    "from IPython.display import Audio\n",
    "import matplotlib.pyplot as plt\n",
    "from scipy.io import wavfile\n",
    "%matplotlib notebook"
   ]
  },
  {
   "cell_type": "markdown",
   "metadata": {},
   "source": [
    "#### Create arrays of time samples `ts` and samples `ys` of the mathematically pure tone A4 with frequency 440 Hz sampling at the rate of 44100 Hz for 2 seconds. This is concert A. Hint: $y(t) = \\sin(2\\pi\\cdot ft), t\\in [0,L]$ is the sinuosoid with frequency $f$ Hz.\n",
    "\n",
    "#### Use np.linspace(begin, end, samples, endpoint=False) for the time samples `ts` to include `begin` but exclude `end`.  For example, if we want 10 samples in the interval [0,1] second, use np.linspace(0, 1, 10, endpoint=False) to generate the time array array([0. , 0.1, 0.2, 0.3, 0.4, 0.5, 0.6, 0.7, 0.8, 0.9]) which is correct since 10 Hz sampling rate should samples every 0.1 second. Try it with the endpoint=True to see the difference. \n",
    "\n",
    "#### Create an Audio object and play this tone. This sound is essentially simulating the pure tone of a tuning fork."
   ]
  },
  {
   "cell_type": "code",
   "execution_count": null,
   "metadata": {},
   "outputs": [],
   "source": [
    "fs =  # sampling rate\n",
    "L =   # length of audio\n",
    "N =   # number of samples\n",
    "ts =  # time samples at sampling rate fs (use np.linspace)\n",
    "ys = \n"
   ]
  },
  {
   "cell_type": "markdown",
   "metadata": {},
   "source": [
    "#### The following two functions are taken from the previous Lecture 1's exercises. It will be helpful to use these functions in the following problems."
   ]
  },
  {
   "cell_type": "code",
   "execution_count": 3,
   "metadata": {},
   "outputs": [],
   "source": [
    "def plot_signal_time(ys, t1, t2, fs = 44100):\n",
    "    \"\"\" plots the signal ys on the time domain [t2, t2] \n",
    "    at the sampling rate fs. \n",
    "    \"\"\"\n",
    "    N = ys.size # num of samples\n",
    "    L = N/fs # duration of audio clip\n",
    "    ts = np.linspace(0,L,N) # array of N equally spaced values from [0,L]\n",
    "    fig, ax = plt.subplots()\n",
    "    ax.plot(ts, ys)\n",
    "    ax.set_xlim(t1, t2)\n",
    "    ax.set_xlabel(\"Time(in seconds)\")\n",
    "\n"
   ]
  },
  {
   "cell_type": "code",
   "execution_count": 4,
   "metadata": {},
   "outputs": [],
   "source": [
    "def plot_signal_frequency(ys, f1, f2, fs = 44100):\n",
    "    \"\"\" plots the signal ys on the frequency domain [f1, f2] \n",
    "    at the sampling rate fs. \n",
    "    \"\"\"\n",
    "    N = ys.size\n",
    "    L = N/fs\n",
    "    yk = np.fft.fft(ys)\n",
    "    k = np.arange(N) # 0 to N-1\n",
    "    freqs = k/L\n",
    "    fig, ax = plt.subplots()\n",
    "    ax.plot(freqs, np.abs(yk))\n",
    "    ax.set_xlim(f1,f2)\n",
    "    ax.set_xlabel(\"Frequency (Hz)\")\n",
    "    ax.set_ylabel(\"|yk|\")\n"
   ]
  },
  {
   "cell_type": "markdown",
   "metadata": {},
   "source": [
    "#### Call plot_signal_time to graph the wave form of A4 above. Zoom in to the time interval [0, 0.1] seconds.\n"
   ]
  },
  {
   "cell_type": "code",
   "execution_count": null,
   "metadata": {},
   "outputs": [],
   "source": []
  },
  {
   "cell_type": "markdown",
   "metadata": {},
   "source": [
    "#### Call plot_signal_frequency to graph the frequency domain representation of A4 above. Zoom in on the interval [0, 500] Hz."
   ]
  },
  {
   "cell_type": "code",
   "execution_count": null,
   "metadata": {},
   "outputs": [],
   "source": []
  },
  {
   "cell_type": "markdown",
   "metadata": {},
   "source": [
    "#### Sample from the waveform which is the sum of two sinusoids with frequencies 6 Hz and 10 Hz at the sampling rate of 100 Hz for 1 second. Plot its time domain graph using `plot_signal_time` function above.\n",
    "\n",
    "#### Hint: $y(t) = \\sin(2\\pi\\cdot ft), t\\in [0,L]$ is the sinuosoid with frequency $f$ Hz.\n",
    "\n",
    "#### First initialize variables N: number of samples, fs: sampling rate and L: length of audio\n"
   ]
  },
  {
   "cell_type": "code",
   "execution_count": null,
   "metadata": {},
   "outputs": [],
   "source": []
  },
  {
   "cell_type": "markdown",
   "metadata": {},
   "source": [
    "#### Use `np.linspace(start, stop, num, endpoint=False)` to create array of time samples `ts` and array of samples `ys`."
   ]
  },
  {
   "cell_type": "code",
   "execution_count": null,
   "metadata": {},
   "outputs": [],
   "source": []
  },
  {
   "cell_type": "markdown",
   "metadata": {},
   "source": [
    "#### Call `plot_signal_time` to plot waveform."
   ]
  },
  {
   "cell_type": "code",
   "execution_count": null,
   "metadata": {},
   "outputs": [],
   "source": []
  },
  {
   "cell_type": "markdown",
   "metadata": {},
   "source": [
    "#### Plot its frequency domain graph using `plot_signal_frequency` above on the domain [0, 50] Hz interval."
   ]
  },
  {
   "cell_type": "code",
   "execution_count": null,
   "metadata": {
    "scrolled": true
   },
   "outputs": [],
   "source": []
  },
  {
   "cell_type": "markdown",
   "metadata": {},
   "source": [
    "### Note that the frequecies 6 and 10 Hz show up in the frequency domain graph."
   ]
  },
  {
   "cell_type": "markdown",
   "metadata": {},
   "source": [
    "#### Plot again its frequency domain graph but on the [0,100] Hz interval. What do you notice? (In Lecture 3, we learn that every real signal has a symmetric spectrum. We will also prove this in the exercises for Lecture 4). (For example 90 Hz is an **alias** of 10 Hz, see Lecture 3.)"
   ]
  },
  {
   "cell_type": "code",
   "execution_count": null,
   "metadata": {},
   "outputs": [],
   "source": []
  },
  {
   "cell_type": "markdown",
   "metadata": {},
   "source": [
    "#### Create an array of samples `ys1` of the sinusoid with frequency 6 Hz at the rate 100 Hz for L = 0.5 second. And an array `ys2` with frequency 10 Hz at the same rate and length. Use np.append() to concatenate the arrays. Call this array `ys3`. This audio is the notes played in succession rather than together as a chord: half of a second at 6 Hz and the second half of a second 10 Hz. Plot the `y3` array using plot_signal_time on the [0,1] interval."
   ]
  },
  {
   "cell_type": "code",
   "execution_count": null,
   "metadata": {
    "scrolled": true
   },
   "outputs": [],
   "source": []
  },
  {
   "cell_type": "markdown",
   "metadata": {},
   "source": [
    "#### Now plot the frequency domain of `y3` on the interval [0,50] Hz. Compare this to the previous frequency domain representation of the array `ys`.\n",
    "\n",
    "#### What do you notice? (For this reason, typically, the DFT is calculated repeatedly on very small time intervals and combined to get a spectrogram, which serves as a fingerprint to an audio file. Music apps like Shazam uses this spectrogram to identify songs. "
   ]
  },
  {
   "cell_type": "code",
   "execution_count": null,
   "metadata": {},
   "outputs": [],
   "source": []
  },
  {
   "cell_type": "markdown",
   "metadata": {},
   "source": [
    "#### Read in the \"clarinet.wav\" file and play the audio."
   ]
  },
  {
   "cell_type": "code",
   "execution_count": null,
   "metadata": {},
   "outputs": [],
   "source": []
  },
  {
   "cell_type": "markdown",
   "metadata": {},
   "source": [
    "#### Plot the frequency domain representation. "
   ]
  },
  {
   "cell_type": "code",
   "execution_count": null,
   "metadata": {},
   "outputs": [],
   "source": []
  },
  {
   "cell_type": "markdown",
   "metadata": {},
   "source": [
    "#### Programmatically find the fundamental frequency and the dominant frequency(largest Fourier coefficent magnitude) exactly. HInt: Use np.argsort(array) to sort the array to find the index of the largest. Then use the formula $f_k=k/L$ to find the corresponding frequency.\n",
    "\n",
    "#### Hint: Note from the frequency domain graph above that the fundamental frequency has the second largest Fourier magnitude. However, because, as we will see in Lecture 3, the spectrum is symmetric, ignore some of very high indices(greater than 80,000)."
   ]
  },
  {
   "cell_type": "code",
   "execution_count": null,
   "metadata": {},
   "outputs": [],
   "source": []
  }
 ],
 "metadata": {
  "kernelspec": {
   "display_name": "Python 3",
   "language": "python",
   "name": "python3"
  },
  "language_info": {
   "codemirror_mode": {
    "name": "ipython",
    "version": 3
   },
   "file_extension": ".py",
   "mimetype": "text/x-python",
   "name": "python",
   "nbconvert_exporter": "python",
   "pygments_lexer": "ipython3",
   "version": "3.6.4"
  }
 },
 "nbformat": 4,
 "nbformat_minor": 2
}
